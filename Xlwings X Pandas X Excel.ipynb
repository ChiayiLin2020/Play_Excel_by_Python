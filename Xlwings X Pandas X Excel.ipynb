{
 "cells": [
  {
   "cell_type": "code",
   "execution_count": 95,
   "metadata": {
    "collapsed": false
   },
   "outputs": [],
   "source": [
    "import pandas as pd\n",
    "import numpy as np\n",
    "import xlwings as xw\n",
    "import numpy"
   ]
  },
  {
   "cell_type": "code",
   "execution_count": null,
   "metadata": {
    "collapsed": true
   },
   "outputs": [],
   "source": [
    "dep_list=['應用數學系',\n",
    "            '物理學系',\n",
    "            '化學系',\n",
    "            '心理學系',\n",
    "            '生物科技學系',\n",
    "            '化學工程學系',\n",
    "            '土木工程學系',\n",
    "            '機械工程學系',\n",
    "            '生物醫學工程學系',\n",
    "            '環境工程學系',\n",
    "            '企業管理學系',\n",
    "            '國際經營與貿易學系',\n",
    "            '會計學系',\n",
    "            '資訊管理學系',\n",
    "            '財務金融學系',\n",
    "            '建築學系',\n",
    "            '商業設計學系',\n",
    "            '室內設計學系',\n",
    "            '景觀學系',\n",
    "            '特殊教育學系',\n",
    "            '應用外國語文學系',\n",
    "            '應用華語文學系',\n",
    "            '財經法律學系',\n",
    "            '工業與系統工程學系',\n",
    "            '電子工程學系',\n",
    "            '資訊工程學系',\n",
    "            '電機工程學系',\n",
    "            '電機資訊學院學士班']\n",
    "wb = xw.Book(\"C:/Users/Hao-Ping/Desktop/苑儀Case/報到統計&簽到表自動生成程式.xlsm\")"
   ]
  },
  {
   "cell_type": "code",
   "execution_count": 90,
   "metadata": {
    "collapsed": false
   },
   "outputs": [],
   "source": [
    "def go_go():\n",
    "    df_origin = pd.read_excel(\"C:/Users/Hao-Ping/Desktop/苑儀case/2018高中生大學學系學涯、職涯、生涯體驗營 (Responses).xlsx\")\n",
    "    df_origin.fillna(value=\"nan\", inplace=True)\n",
    "    def people_count():\n",
    "        # 建立各系報名人數、實際出席人數list\n",
    "        people1= []\n",
    "        people2= []\n",
    "        people3= []\n",
    "        people4= []\n",
    "        for i in range(0,len(dep_list)):\n",
    "            people1.append(df_origin[df_origin.參觀學系1 == dep_list[i]].參觀學系1.count())\n",
    "            people2.append(df_origin[df_origin.參觀學系1 == dep_list[i]].出席人數.sum())\n",
    "            people3.append(df_origin[df_origin.參觀學系2 == dep_list[i]].參觀學系2.count())\n",
    "            people4.append(df_origin[df_origin.參觀學系2 == dep_list[i]].出席人數.sum())\n",
    "        column_values1= pd.Series(people1)\n",
    "        column_values2= pd.Series(people2)\n",
    "        column_values3= pd.Series(people3)\n",
    "        column_values4= pd.Series(people4)\n",
    "        #  利用pandas建立報名人數、實際出席人數data frame  \n",
    "        people_summary = {'時段一':people1, '時段二':people2, '時段一_含陪同人員':people3,'時段二_含陪同人員':people4}\n",
    "        df_people_summary = pd.DataFrame(data = people_summary)\n",
    "        df_people_summary\n",
    "        #  設定報到人數表sheet為操作物件，並將dataframe匯入\n",
    "        sht_registration = wb.sheets['各學系_參加人數']\n",
    "        sht_registration.range('C3').options(expand='table',index = False, header = False).value = df_people_summary\n",
    "\n",
    "        # 執行\n",
    "    people_count()\n",
    "\n",
    "    def student_desc():\n",
    "        for i in range(0,28):\n",
    "            df_dep_desc_period1 = pd.DataFrame({\n",
    "                                        'A':df_origin.中文姓名[df_origin.參觀學系1 == dep_list[i]],\n",
    "                                        'B':df_origin.性別[df_origin.參觀學系1 == dep_list[i]],\n",
    "                                        'C':df_origin.學校名稱[df_origin.參觀學系1 == dep_list[i]],\n",
    "                                        'D':df_origin.高中縣市[df_origin.參觀學系1 == dep_list[i]],\n",
    "                                        'E':df_origin.參觀學系1[df_origin.參觀學系1 == dep_list[i]],\n",
    "                                        'F':df_origin.膳食選擇[df_origin.參觀學系1 == dep_list[i]],\n",
    "                                        'G':df_origin.家長是否隨同出席[df_origin.參觀學系1 == dep_list[i]],\n",
    "                                        'H':df_origin.出席人數[df_origin.參觀學系1 == dep_list[i]],\n",
    "                                       })\n",
    "\n",
    "            df_dep_desc_period2 = pd.DataFrame({\n",
    "                                        'A':df_origin.中文姓名[df_origin.參觀學系2 == dep_list[i]],\n",
    "                                        'B':df_origin.性別[df_origin.參觀學系2 == dep_list[i]],\n",
    "                                        'C':df_origin.學校名稱[df_origin.參觀學系2 == dep_list[i]],\n",
    "                                        'D':df_origin.高中縣市[df_origin.參觀學系2 == dep_list[i]],\n",
    "                                        'E':df_origin.參觀學系2[df_origin.參觀學系2 == dep_list[i]],\n",
    "                                        'F':df_origin.膳食選擇[df_origin.參觀學系2 == dep_list[i]],\n",
    "                                        'G':df_origin.家長是否隨同出席[df_origin.參觀學系2 == dep_list[i]],\n",
    "                                        'H':df_origin.出席人數[df_origin.參觀學系2 == dep_list[i]],\n",
    "                                       })\n",
    "\n",
    "\n",
    "            # sheet設定\n",
    "            sht_student = wb.sheets[dep_list[i]]\n",
    "            # 填上學系\n",
    "            sht_student.range('B1').value = dep_list[i]\n",
    "            sht_student.range('L1').value = dep_list[i]\n",
    "            # 填上學生/參與人數\n",
    "            sht_student.range('G3').value = df_origin[df_origin.參觀學系1 == dep_list[i]].參觀學系1.count()\n",
    "            sht_student.range('I3').value = df_origin[df_origin.參觀學系1 == dep_list[i]].出席人數.sum()\n",
    "            sht_student.range('Q3').value = df_origin[df_origin.參觀學系2 == dep_list[i]].參觀學系1.count()\n",
    "            sht_student.range('S3').value = df_origin[df_origin.參觀學系2 == dep_list[i]].出席人數.sum()\n",
    "            # 填入細項\n",
    "            sht_student.range('B5').options(expand='table',index = False, header = False).value = df_dep_desc_period1\n",
    "            sht_student.range('L5').options(expand='table',index = False, header = False).value = df_dep_desc_period2\n",
    "            # 調整格式\n",
    "            sht_student.range('A1:S1').columns.autofit()\n",
    "            sht_student.range('A1:A50').rows.autofit()\n",
    "\n",
    "        # '性別',\n",
    "        # '學校名稱',\n",
    "        # '高中縣市',\n",
    "        # '參觀學系-1',\n",
    "        # '膳食選擇',\n",
    "        # '家屬是否隨同出席',\n",
    "        # '出席人數',\n",
    "        # '是否參加宿舍介紹部份',\n",
    "        # '是否實地參觀宿舍')\n",
    "\n",
    "        #  people1.append(df_origin[df_origin.參觀學系1 == dep_list[i]].參觀學系1.count())\n",
    "        #         people2.append(df_origin[df_origin.參觀學系2 == dep_list[i]].參觀學系2.count())\n",
    "        #         people3.append(df_origin[df_origin.參觀學系1 == dep_list[i]].出席人數.sum())\n",
    "        #         people4.append(df_origin[df_origin.參觀學系2 == dep_list[i]].出席人數.sum())\n",
    "\n",
    "    # 執行    \n",
    "    student_desc()\n",
    "\n",
    "    def signature_arrage():\n",
    "        for i in range(0,28):\n",
    "            signature_1 = pd.DataFrame({\n",
    "                                        'A':df_origin.中文姓名[df_origin.參觀學系1 == dep_list[i]],\n",
    "                                        'C':df_origin.學校名稱[df_origin.參觀學系1 == dep_list[i]],\n",
    "                                        'F':df_origin.膳食選擇[df_origin.參觀學系1 == dep_list[i]],\n",
    "                                        'H':df_origin.出席人數[df_origin.參觀學系1 == dep_list[i]],\n",
    "                                       })\n",
    "\n",
    "            signature_2 = pd.DataFrame({\n",
    "                                        'A':df_origin.中文姓名[df_origin.參觀學系2 == dep_list[i]],\n",
    "                                        'C':df_origin.學校名稱[df_origin.參觀學系2 == dep_list[i]],\n",
    "                                        'F':df_origin.膳食選擇[df_origin.參觀學系2 == dep_list[i]],\n",
    "                                        'H':df_origin.出席人數[df_origin.參觀學系2 == dep_list[i]],\n",
    "                                       })\n",
    "\n",
    "\n",
    "            # sheet設定\n",
    "            sht_signature = wb.sheets[dep_list[i]+\"簽到表\"]\n",
    "            # 填上學系\n",
    "            sht_signature.range('C4').value = dep_list[i]\n",
    "            sht_signature.range('J4').value = dep_list[i]\n",
    "            # 填入細項\n",
    "            sht_signature.range('B6').options(expand='table',index = False, header = False).value = signature_1\n",
    "            sht_signature.range('I6').options(expand='table',index = False, header = False).value = signature_2\n",
    "            # 調整格式\n",
    "            # sht_student.range('c').columns.autofit()\n",
    "            # sht_student.range('j').columns.autofit()\n",
    "\n",
    "    # 執行          \n",
    "    signature_arrage()\n"
   ]
  },
  {
   "cell_type": "code",
   "execution_count": 92,
   "metadata": {
    "collapsed": false
   },
   "outputs": [],
   "source": [
    "def clear_clear():\n",
    "    \n",
    "    wb = xw.Book(\"C:/Users/Hao-Ping/Desktop/苑儀Case/報到統計&簽到表自動生成程式.xlsm\")\n",
    "    for i in range(0,28):\n",
    "        sht_registration = wb.sheets['各學系_參加人數']\n",
    "        sht_registration.range('C3:F100').clear_contents()\n",
    "        sht_student = wb.sheets[dep_list[i]]\n",
    "        sht_student.range('B5:I100').clear_contents()\n",
    "        sht_student.range('L5:S100').clear_contents()\n",
    "        sht_student.range('B5:I100').clear_contents()\n",
    "        sht_student.range('L5:S100').clear_contents()\n",
    "        sht_student.range('G3,I3,Q3,S3').clear_contents()\n",
    "        sht_signature = wb.sheets[dep_list[i]+\"簽到表\"]\n",
    "        sht_signature.range('B6:F100').clear_contents()\n",
    "        sht_signature.range('I6:M100').clear_contents()\n",
    "        sht_signature.range('C4').clear_contents()\n",
    "        sht_signature.range('J4').clear_contents()\n"
   ]
  },
  {
   "cell_type": "code",
   "execution_count": 54,
   "metadata": {
    "collapsed": false
   },
   "outputs": [],
   "source": [
    "# def people_count():\n",
    "#     # 建立各系報名人數、實際出席人數list\n",
    "#     people1= []\n",
    "#     people2= []\n",
    "#     people3= []\n",
    "#     people4= []\n",
    "#     for i in range(0,len(dep_list)):\n",
    "#         people1.append(df_origin[df_origin.參觀學系1 == dep_list[i]].參觀學系1.count())\n",
    "#         people2.append(df_origin[df_origin.參觀學系1 == dep_list[i]].出席人數.sum())\n",
    "#         people3.append(df_origin[df_origin.參觀學系2 == dep_list[i]].參觀學系2.count())\n",
    "#         people4.append(df_origin[df_origin.參觀學系2 == dep_list[i]].出席人數.sum())\n",
    "#     column_values1= pd.Series(people1)\n",
    "#     column_values2= pd.Series(people2)\n",
    "#     column_values3= pd.Series(people3)\n",
    "#     column_values4= pd.Series(people4)\n",
    "#     #  利用pandas建立報名人數、實際出席人數data frame  \n",
    "#     people_summary = {'時段一':people1, '時段二':people2, '時段一_含陪同人員':people3,'時段二_含陪同人員':people4}\n",
    "#     df_people_summary = pd.DataFrame(data = people_summary)\n",
    "#     df_people_summary\n",
    "#     #  設定報到人數表sheet為操作物件，並將dataframe匯入\n",
    "#     sht_registration = wb.sheets['各學系_參加人數']\n",
    "#     sht_registration.range('C3').options(expand='table',index = False, header = False).value = df_people_summary"
   ]
  },
  {
   "cell_type": "code",
   "execution_count": 94,
   "metadata": {
    "collapsed": false,
    "scrolled": true
   },
   "outputs": [
    {
     "data": {
      "text/plain": [
       "list"
      ]
     },
     "execution_count": 94,
     "metadata": {},
     "output_type": "execute_result"
    }
   ],
   "source": [
    "# # 生成表單\n",
    "# for dep in dep_list:\n",
    "#     wb.sheets.add(dep)\n",
    "#     wb.sheets.add(dep+\"簽到表\")\n",
    "#     print(dep)\n",
    "# type(dep_list)"
   ]
  },
  {
   "cell_type": "code",
   "execution_count": null,
   "metadata": {
    "collapsed": true
   },
   "outputs": [],
   "source": []
  }
 ],
 "metadata": {
  "kernelspec": {
   "display_name": "Python 3",
   "language": "python",
   "name": "python3"
  },
  "language_info": {
   "codemirror_mode": {
    "name": "ipython",
    "version": 3
   },
   "file_extension": ".py",
   "mimetype": "text/x-python",
   "name": "python",
   "nbconvert_exporter": "python",
   "pygments_lexer": "ipython3",
   "version": "3.6.0"
  }
 },
 "nbformat": 4,
 "nbformat_minor": 2
}
